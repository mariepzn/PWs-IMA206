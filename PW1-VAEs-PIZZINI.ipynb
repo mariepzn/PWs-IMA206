{
  "cells": [
    {
      "cell_type": "markdown",
      "metadata": {},
      "source": [
        "<h1 style=\"color: #aadafa; text-align: center; font-size: 48px; margin-bottom: 0.2em;\">\n",
        "PW 1 - Coding autoencoders in Pytorch\n",
        "<h1>\n",
        "<p style=\"text-align: center; font-size: 18px; margin-top: 0.5em;\">\n",
        "<strong> Marie Pizzini</strong> \n",
        "</p>\n",
        "<p style=\"text-align: center; font-size: 18px; margin-top: 0.5em;\">\n",
        "Telecom Paris - May 2024\n",
        "</p>"
      ]
    },
    {
      "cell_type": "markdown",
      "metadata": {
        "id": "TdpPHz2Lp6VD"
      },
      "source": [
        "The lab was originally created by Alasdair Newson (https://sites.google.com/site/alasdairnewson/)\n",
        "\n",
        "The current version is made by Loic Le Folgoc. If you have questions, please contact me at loic dot lefolgoc at telecom-paris dot fr.\n",
        "\n",
        "## Objective:\n",
        "\n",
        "The goal of this TP is to explore autoencoders and variational autoencoders applied to a simple dataset. In this first part, we will look at an autoencoder applied to MNIST. We recall that an autoencoder is a neural network with the following general architecture:\n",
        "\n",
        "\n",
        "![AUTOENCODER](https://drive.google.com/uc?id=11dfNujSHa2-_eThp2aTpL1M_hLaEQX-G)\n",
        "\n",
        "\n",
        "The tensor $z$ in the middle of the network is called a __latent code__, and it belongs to the latent space. It is this latent space which is interesting in autoencoders (for image synthesis, editing, etc).\n",
        "\n",
        "## Your task:\n",
        "You need to add the missing parts in the code (parts between # --- START CODE HERE and # --- END CODE HERE or # FILL IN CODE or ...)"
      ]
    },
    {
      "cell_type": "markdown",
      "metadata": {
        "id": "gp13aVUQq1WX"
      },
      "source": [
        "First of all, let's load some packages:"
      ]
    },
    {
      "cell_type": "code",
      "execution_count": 1,
      "metadata": {
        "id": "JqNeIJ8Op8Ao"
      },
      "outputs": [],
      "source": [
        "import torch\n",
        "import torch.nn as nn\n",
        "import torch.nn.functional as F\n",
        "import torch.optim as optim\n",
        "from torchvision import datasets, transforms\n",
        "from torch.autograd import Variable\n",
        "from torchvision.utils import save_image\n",
        "\n",
        "import pdb\n",
        "import numpy as np\n",
        "import matplotlib.pyplot as plt"
      ]
    },
    {
      "cell_type": "code",
      "execution_count": 2,
      "metadata": {
        "id": "U6NKzRPlDKZp"
      },
      "outputs": [],
      "source": [
        "from tqdm import tqdm"
      ]
    },
    {
      "cell_type": "markdown",
      "metadata": {
        "id": "Hyj5dj_eui9D"
      },
      "source": [
        "First, we load the mnist dataset. I find that training on the full training dataset `mnist_trainset` is fast enough even on CPU (5-10 minutes), but should you need it, we create a reduced trainset below.\n",
        "\n",
        "Feel free to train on `mnist_trainset_reduced` instead if you prefer (results might be of poorer quality). To do so, replace the argument `mnist_trainset` in the `torch.utils.data.DataLoader(...)` call creating `mnist_train_loader` in the cell below by `mnist_trainset_reduced` (and same for `mnist_testset` and `mnist_testset_reduced`)."
      ]
    },
    {
      "cell_type": "code",
      "execution_count": 9,
      "metadata": {
        "colab": {
          "base_uri": "https://localhost:8080/"
        },
        "id": "4YPLKlPrufSk",
        "outputId": "95ae7266-fbea-4e4b-82f5-8203cd112814"
      },
      "outputs": [
        {
          "name": "stdout",
          "output_type": "stream",
          "text": [
            "Downloading http://yann.lecun.com/exdb/mnist/train-images-idx3-ubyte.gz\n",
            "Failed to download (trying next):\n",
            "HTTP Error 403: Forbidden\n",
            "\n",
            "Downloading https://ossci-datasets.s3.amazonaws.com/mnist/train-images-idx3-ubyte.gz\n",
            "Downloading https://ossci-datasets.s3.amazonaws.com/mnist/train-images-idx3-ubyte.gz to ./mnist_data/MNIST/raw/train-images-idx3-ubyte.gz\n"
          ]
        },
        {
          "name": "stderr",
          "output_type": "stream",
          "text": [
            "100%|██████████| 9912422/9912422 [00:00<00:00, 16268034.41it/s]\n"
          ]
        },
        {
          "name": "stdout",
          "output_type": "stream",
          "text": [
            "Extracting ./mnist_data/MNIST/raw/train-images-idx3-ubyte.gz to ./mnist_data/MNIST/raw\n",
            "\n",
            "Downloading http://yann.lecun.com/exdb/mnist/train-labels-idx1-ubyte.gz\n",
            "Failed to download (trying next):\n",
            "HTTP Error 403: Forbidden\n",
            "\n",
            "Downloading https://ossci-datasets.s3.amazonaws.com/mnist/train-labels-idx1-ubyte.gz\n",
            "Downloading https://ossci-datasets.s3.amazonaws.com/mnist/train-labels-idx1-ubyte.gz to ./mnist_data/MNIST/raw/train-labels-idx1-ubyte.gz\n"
          ]
        },
        {
          "name": "stderr",
          "output_type": "stream",
          "text": [
            "100%|██████████| 28881/28881 [00:00<00:00, 487701.13it/s]\n"
          ]
        },
        {
          "name": "stdout",
          "output_type": "stream",
          "text": [
            "Extracting ./mnist_data/MNIST/raw/train-labels-idx1-ubyte.gz to ./mnist_data/MNIST/raw\n",
            "\n",
            "Downloading http://yann.lecun.com/exdb/mnist/t10k-images-idx3-ubyte.gz\n",
            "Failed to download (trying next):\n",
            "HTTP Error 403: Forbidden\n",
            "\n",
            "Downloading https://ossci-datasets.s3.amazonaws.com/mnist/t10k-images-idx3-ubyte.gz\n",
            "Downloading https://ossci-datasets.s3.amazonaws.com/mnist/t10k-images-idx3-ubyte.gz to ./mnist_data/MNIST/raw/t10k-images-idx3-ubyte.gz\n"
          ]
        },
        {
          "name": "stderr",
          "output_type": "stream",
          "text": [
            "100%|██████████| 1648877/1648877 [00:00<00:00, 4467809.04it/s]\n"
          ]
        },
        {
          "name": "stdout",
          "output_type": "stream",
          "text": [
            "Extracting ./mnist_data/MNIST/raw/t10k-images-idx3-ubyte.gz to ./mnist_data/MNIST/raw\n",
            "\n",
            "Downloading http://yann.lecun.com/exdb/mnist/t10k-labels-idx1-ubyte.gz\n",
            "Failed to download (trying next):\n",
            "HTTP Error 403: Forbidden\n",
            "\n",
            "Downloading https://ossci-datasets.s3.amazonaws.com/mnist/t10k-labels-idx1-ubyte.gz\n",
            "Downloading https://ossci-datasets.s3.amazonaws.com/mnist/t10k-labels-idx1-ubyte.gz to ./mnist_data/MNIST/raw/t10k-labels-idx1-ubyte.gz\n"
          ]
        },
        {
          "name": "stderr",
          "output_type": "stream",
          "text": [
            "100%|██████████| 4542/4542 [00:00<00:00, 9906671.23it/s]"
          ]
        },
        {
          "name": "stdout",
          "output_type": "stream",
          "text": [
            "Extracting ./mnist_data/MNIST/raw/t10k-labels-idx1-ubyte.gz to ./mnist_data/MNIST/raw\n",
            "\n"
          ]
        },
        {
          "name": "stderr",
          "output_type": "stream",
          "text": [
            "\n"
          ]
        }
      ],
      "source": [
        "batch_size = 64\n",
        "\n",
        "# MNIST Dataset\n",
        "mnist_trainset = datasets.MNIST(root='./mnist_data/', train=True, transform=transforms.ToTensor(), download=True)\n",
        "mnist_testset = datasets.MNIST(root='./mnist_data/', train=False, transform=transforms.ToTensor(), download=False)\n",
        "\n",
        "#create data loader with smaller dataset size\n",
        "max_mnist_size = 5000\n",
        "mnist_trainset_reduced = torch.utils.data.random_split(mnist_trainset, [max_mnist_size, len(mnist_trainset)-max_mnist_size])[0]\n",
        "mnist_train_loader = torch.utils.data.DataLoader(mnist_trainset, batch_size=batch_size, shuffle=True, drop_last=True)\n",
        "\n",
        "# download test dataset\n",
        "max_mnist_size = 1000\n",
        "mnist_testset_reduced = torch.utils.data.random_split(mnist_testset, [max_mnist_size, len(mnist_testset)-max_mnist_size])[0]\n",
        "mnist_test_loader = torch.utils.data.DataLoader(mnist_testset, batch_size=batch_size, shuffle=False, drop_last=True)\n"
      ]
    },
    {
      "cell_type": "code",
      "execution_count": 16,
      "metadata": {
        "colab": {
          "base_uri": "https://localhost:8080/"
        },
        "id": "r7YhlBT2PN9I",
        "outputId": "6107616a-6360-4e3a-9c08-ab76c186790e"
      },
      "outputs": [
        {
          "data": {
            "text/plain": [
              "torch.Size([60000, 28, 28])"
            ]
          },
          "execution_count": 16,
          "metadata": {},
          "output_type": "execute_result"
        }
      ],
      "source": [
        "mnist_trainset.data.shape"
      ]
    },
    {
      "cell_type": "markdown",
      "metadata": {
        "id": "t-bkK4ktwfvC"
      },
      "source": [
        "# 1. Vanilla Autoencoder\n",
        "\n",
        "Now, we define our autoencoder model. The autoencoder class `AEModel` is made of an `Encoder` and a `Decoder`, which we create first. We will reuse the `Encoder` and `Decoder` classes when building our variational autoencoder model, and wrap them in a `VAEModel` instead."
      ]
    },
    {
      "cell_type": "markdown",
      "metadata": {
        "id": "6jLa2-jQwxSI"
      },
      "source": [
        "We will use the following convolutional architectures :\n",
        "\n",
        "__Encoder__ :\n",
        "- Conv layer, 32 filters, 4x4 kernel, stride=2, padding=1; + ReLU\n",
        "- Conv layer, 32 filters, 4x4 kernel, stride=2, padding=0; + ReLU\n",
        "- Conv layer, 32 filters, 4x4 kernel, stride=2, padding=0; + ReLU\n",
        "- Flatten\n",
        "- Dense layer with 64 output neurons; + ReLU\n",
        "- Dense layer with `self.latent_dim*self.multiplier` output neurons.\n",
        "\n",
        "For the autoencoder, `self.multiplier=1` as the encoder outputs a `self.latent_dim`-dimensional latent code. For the variational autoencoder, we will set `self.multiplier=2` as the encoder will output `self.latent_dim`-dimensional mean and log-variance parameters of the Gaussian distribution $q_\\phi(z|x)$.\n",
        "\n",
        "__Decoder__ (the decoder of the AE and VAE are the same, they always outputs an image/probability map, given a code $z$ as input):\n",
        "- Dense layer with 64 output neurons; + ReLU\n",
        "- Dense layer with ??? output neurons; + ReLU\n",
        "- Reshape, to a `(C, H, W)` tensor with `C=32`, `H=???`, `W=???`.\n",
        "- Conv transpose layer, 32 filters, 4x4 kernel, stride=2, padding=0; +ReLU\n",
        "- Conv transpose layer, 32 filters, 4x4 kernel, stride=2, padding=0; +ReLU\n",
        "- Conv transpose layer, 1 filter, 4x4 kernel, stride=2, padding=1; +Sigmoid\n",
        "\n",
        "The number of output neurons of the second dense layer is exactly the number of input neurons in the first dense layer of the encoder (i.e., the number of values in the feature maps of the conv layer immediately before it).\n",
        "\n",
        "For the reshape operations, use the ```A.view(dim_1,dim_2,...)``` function, where ```A``` is your tensor."
      ]
    },
    {
      "cell_type": "markdown",
      "metadata": {
        "id": "eNH7ScylwKa-"
      },
      "source": [
        "__Hint for computing the number of neurons that are not given to you__: This [great resource](https://madebyollin.github.io/convnet-calculator/) lets you compute the size of the output tensor following any convolution layer depending on the input tensor shape and conv parameters."
      ]
    },
    {
      "cell_type": "code",
      "execution_count": 10,
      "metadata": {
        "id": "0-IyPUQkIR-U"
      },
      "outputs": [],
      "source": [
        "class Encoder(torch.nn.Module):\n",
        "    def __init__(self, latent_dim=10, multiplier=1):\n",
        "        super(Encoder, self).__init__()\n",
        "\n",
        "        # Layer parameters\n",
        "        self.latent_dim = latent_dim\n",
        "        self.multiplier = multiplier\n",
        "\n",
        "        # Shape at the end of conv3\n",
        "        self.reshape = 128\n",
        "\n",
        "        # Convolutional layers\n",
        "        self.conv1 = nn.Conv2d(1,32,kernel_size=4,stride = 2, padding=1)\n",
        "\n",
        "        self.conv2 = nn.Conv2d(32,32,kernel_size=4,stride=2, padding=0)\n",
        "        self.conv3 = nn.Conv2d(32,32,kernel_size=4,stride=2, padding=0)\n",
        "\n",
        "        # Fully connected layers\n",
        "        self.lin1 = nn.Linear(self.reshape, 64)\n",
        "        self.lin2 = nn.Linear(64, self.latent_dim * self.multiplier)\n",
        "\n",
        "\n",
        "    def forward(self, x):\n",
        "        '''\n",
        "        Pass the input image mini-batch through conv, linear layers and\n",
        "        non-linearities to output a (B,D,2) tensor where B is the mini-batch\n",
        "        size and D the latent dimension.\n",
        "        '''\n",
        "        batch_size = x.size(0)\n",
        "\n",
        "        # Convolutional layers with ReLu activations\n",
        "        x = F.relu(self.conv1(x))\n",
        "        x = F.relu(self.conv2(x))\n",
        "        x = F.relu(self.conv3(x))\n",
        "\n",
        "        # Flatten\n",
        "        x = x.view(batch_size, -1)\n",
        "\n",
        "        # Fully connected layer with ReLu activation\n",
        "        x = F.relu(self.lin1(x))\n",
        "\n",
        "        # Fully connected layer for code z, or mean and log-variance\n",
        "        x = self.lin2(x)\n",
        "\n",
        "        # The shape of the output tensor should be (B,D) if multiplier=1,\n",
        "        # where B is the batch size, and D the latent dimension.\n",
        "        # Otherwise it should be (B,D,multiplier)\n",
        "        if self.multiplier == 1:\n",
        "            x = x.view(batch_size, self.latent_dim)\n",
        "        else:\n",
        "            x = x.view(batch_size, self.latent_dim, self.multiplier)\n",
        "\n",
        "        return x"
      ]
    },
    {
      "cell_type": "code",
      "execution_count": 11,
      "metadata": {
        "id": "U64AqYvpYpr6"
      },
      "outputs": [],
      "source": [
        "class Decoder(nn.Module):\n",
        "\n",
        "    def __init__(self, latent_dim=10):\n",
        "        super(Decoder, self).__init__()\n",
        "\n",
        "        # Shape required to start transpose convs (copy paste from the encoder)\n",
        "        self.reshape = 128\n",
        "\n",
        "        # Fully connected layers\n",
        "        self.lin1 = nn.Linear(latent_dim, 64)\n",
        "        self.lin2 = nn.Linear(64, self.reshape)\n",
        "\n",
        "        # Convolutional layers\n",
        "        self.convT1 = nn.ConvTranspose2d(32, 32, kernel_size=4, stride=2, padding=0)\n",
        "        self.convT2 = nn.ConvTranspose2d(32, 32, kernel_size=4, stride=2, padding=0)\n",
        "        self.convT3 = nn.ConvTranspose2d(32, 1, kernel_size=4, stride=2, padding=1)\n",
        "\n",
        "    def forward(self, z):\n",
        "        batch_size = z.size(0)\n",
        "\n",
        "        # Fully connected layers with ReLu activations\n",
        "        z = F.relu(self.lin1(z))\n",
        "        z = F.relu(self.lin2(z))\n",
        "\n",
        "        # Reshape\n",
        "        z = z.view(batch_size, 32, 2, 2)\n",
        "\n",
        "        # Convolutional layers with ReLu activations\n",
        "        z = F.relu(self.convT1(z))\n",
        "        z = F.relu(self.convT2(z))\n",
        "\n",
        "        # Final conv layer with sigmoid activation\n",
        "        z = torch.sigmoid(self.convT3(z))\n",
        "\n",
        "        return z"
      ]
    },
    {
      "cell_type": "markdown",
      "metadata": {
        "id": "JmGyzVp4HVRJ"
      },
      "source": [
        "The autoencoder model itself is basically a wrapper around an `Encoder` and a `Decoder`. In the forward pass, the input images contained in the tensor `x` are passed through the `Encoder` to obtain the latent codes `z` then these codes are fed to the `Decoder` to produce the reconstructions `y`."
      ]
    },
    {
      "cell_type": "code",
      "execution_count": 63,
      "metadata": {
        "id": "T9MYicH9Zf3o"
      },
      "outputs": [],
      "source": [
        "class AEModel(nn.Module):\n",
        "    def __init__(self, latent_dim):\n",
        "        \"\"\"\n",
        "        Class which defines model and forward pass.\n",
        "\n",
        "        Parameters\n",
        "        ----------\n",
        "        latent_dim : int\n",
        "            Dimensionality of latent code.\n",
        "        \"\"\"\n",
        "        super(AEModel, self).__init__()\n",
        "\n",
        "        self.latent_dim = latent_dim\n",
        "        self.encoder = Encoder(latent_dim=latent_dim)\n",
        "        self.decoder = Decoder(latent_dim=latent_dim)\n",
        "\n",
        "    def forward(self, x, mode='sample'):\n",
        "        \"\"\"\n",
        "        Forward pass of model, used for training or reconstruction.\n",
        "\n",
        "        Parameters\n",
        "        ----------\n",
        "        x : torch.Tensor\n",
        "            Batch of data. Shape (batch_size, n_chan, height, width)\n",
        "\n",
        "        Outputs a dictionary containing:\n",
        "          codes - the latent codes corresponding to the input images\n",
        "          reconstructions - the images reconstructed by the autoencoder\n",
        "        \"\"\"\n",
        "\n",
        "        # z is the output of the encoder\n",
        "        z = self.encoder(x)\n",
        "\n",
        "        # Decode the samples to image space\n",
        "        y = self.decoder(z)\n",
        "\n",
        "        # Return everything:\n",
        "        return {\n",
        "            'reconstructions': y,\n",
        "            'codes': z\n",
        "            }"
      ]
    },
    {
      "cell_type": "markdown",
      "metadata": {
        "id": "VeWePstgIVBw"
      },
      "source": [
        "Next, we carefully create the reconstruction loss. It will be reused for the VAE loss later on."
      ]
    },
    {
      "cell_type": "markdown",
      "metadata": {
        "id": "3FIb4BDrInYy"
      },
      "source": [
        "The reconstruction loss translates a pixel-wise Bernoulli probabilistic model into a loss (`F.binary_cross_entropy`). It takes input images `data` and reconstructed probability maps `reconstructions` and computes the binary cross-entropy, from the two images."
      ]
    },
    {
      "cell_type": "code",
      "execution_count": 64,
      "metadata": {
        "id": "CWrQbhOnbv7y"
      },
      "outputs": [],
      "source": [
        "def reconstruction_loss(reconstructions, data):\n",
        "    \"\"\"\n",
        "    Calculates the reconstruction loss for a batch of data. I.e. negative\n",
        "    log likelihood.\n",
        "\n",
        "    Parameters\n",
        "    ----------\n",
        "    data : torch.Tensor\n",
        "        Input data (e.g. batch of images). Shape : (batch_size, 1,\n",
        "        height, width).\n",
        "\n",
        "    reconstructions : torch.Tensor\n",
        "        Reconstructed data. Shape : (batch_size, 1, height, width).\n",
        "\n",
        "    Returns\n",
        "    -------\n",
        "    loss : torch.Tensor\n",
        "        Binary cross entropy, AVERAGED over images in the batch but SUMMED over\n",
        "        pixel and channel.\n",
        "    \"\"\"\n",
        "    batch_size, n_chan, height, width = reconstructions.size()\n",
        "\n",
        "    # The pixel-wise loss is the binary cross-entropy, computed from\n",
        "    # reconstructions and data. It is summed over pixels and averaged across\n",
        "    # samples in the batch.\n",
        "    loss = F.binary_cross_entropy(reconstructions, data, reduction='sum') / batch_size\n",
        "\n",
        "    return loss"
      ]
    },
    {
      "cell_type": "markdown",
      "metadata": {
        "id": "iqibefFRJHy_"
      },
      "source": [
        "### Training the vanilla autoencoder"
      ]
    },
    {
      "cell_type": "markdown",
      "metadata": {
        "id": "RQbHTXMLJODw"
      },
      "source": [
        "The training proceeds as usual. We instantiate a model, move it to the correct device, create an optimizer and write the training loop."
      ]
    },
    {
      "cell_type": "code",
      "execution_count": 67,
      "metadata": {
        "id": "NyZcTZP3a_kc"
      },
      "outputs": [],
      "source": [
        "# Parameters\n",
        "latent_dim = 10\n",
        "\n",
        "learning_rate = 1e-3\n",
        "n_epoch = 13 # if running on GPU you can use more epochs (10 or more)"
      ]
    },
    {
      "cell_type": "code",
      "execution_count": 68,
      "metadata": {
        "colab": {
          "base_uri": "https://localhost:8080/"
        },
        "id": "ft_3txj0bZjO",
        "outputId": "85454430-30e8-480c-c407-c6961edc3c23"
      },
      "outputs": [
        {
          "name": "stdout",
          "output_type": "stream",
          "text": [
            "cuda:0\n"
          ]
        }
      ],
      "source": [
        "device = torch.device(\"cuda:0\" if torch.cuda.is_available() else \"cpu\")\n",
        "print(device)"
      ]
    },
    {
      "cell_type": "code",
      "execution_count": 69,
      "metadata": {
        "id": "oV40vRMQRoG1"
      },
      "outputs": [],
      "source": [
        "# Model\n",
        "ae_model = AEModel(latent_dim=latent_dim)\n",
        "ae_model = ae_model.to(device)"
      ]
    },
    {
      "cell_type": "code",
      "execution_count": 70,
      "metadata": {
        "id": "sbnKjRTDaynz"
      },
      "outputs": [],
      "source": [
        "# Use the AdamW optimizer, set the correct learning rate and weight_decay to 1e-4\n",
        "optimizer = optim.AdamW(ae_model.parameters(), lr=1e-3, weight_decay=1e-4)"
      ]
    },
    {
      "cell_type": "code",
      "execution_count": 71,
      "metadata": {
        "colab": {
          "base_uri": "https://localhost:8080/"
        },
        "id": "S2-phJydcICh",
        "outputId": "36ee1255-0ac9-42bd-a97d-5bb1b8de663f"
      },
      "outputs": [
        {
          "name": "stderr",
          "output_type": "stream",
          "text": [
            "Epoch 0: 100%|██████████| 937/937 [00:16<00:00, 57.60batch/s, loss=117]\n"
          ]
        },
        {
          "name": "stdout",
          "output_type": "stream",
          "text": [
            "Epoch 0: Train Loss: 166.4488\n"
          ]
        },
        {
          "name": "stderr",
          "output_type": "stream",
          "text": [
            "Epoch 1: 100%|██████████| 937/937 [00:16<00:00, 58.33batch/s, loss=103]\n"
          ]
        },
        {
          "name": "stdout",
          "output_type": "stream",
          "text": [
            "Epoch 1: Train Loss: 110.4964\n"
          ]
        },
        {
          "name": "stderr",
          "output_type": "stream",
          "text": [
            "Epoch 2: 100%|██████████| 937/937 [00:15<00:00, 59.48batch/s, loss=87.2]\n"
          ]
        },
        {
          "name": "stdout",
          "output_type": "stream",
          "text": [
            "Epoch 2: Train Loss: 97.7937\n"
          ]
        },
        {
          "name": "stderr",
          "output_type": "stream",
          "text": [
            "Epoch 3: 100%|██████████| 937/937 [00:15<00:00, 59.77batch/s, loss=91.2]\n"
          ]
        },
        {
          "name": "stdout",
          "output_type": "stream",
          "text": [
            "Epoch 3: Train Loss: 92.3451\n"
          ]
        },
        {
          "name": "stderr",
          "output_type": "stream",
          "text": [
            "Epoch 4: 100%|██████████| 937/937 [00:16<00:00, 58.18batch/s, loss=88.6]\n"
          ]
        },
        {
          "name": "stdout",
          "output_type": "stream",
          "text": [
            "Epoch 4: Train Loss: 88.7495\n"
          ]
        },
        {
          "name": "stderr",
          "output_type": "stream",
          "text": [
            "Epoch 5: 100%|██████████| 937/937 [00:16<00:00, 57.71batch/s, loss=86.5]\n"
          ]
        },
        {
          "name": "stdout",
          "output_type": "stream",
          "text": [
            "Epoch 5: Train Loss: 86.9151\n"
          ]
        },
        {
          "name": "stderr",
          "output_type": "stream",
          "text": [
            "Epoch 6: 100%|██████████| 937/937 [00:15<00:00, 60.03batch/s, loss=92.5]\n"
          ]
        },
        {
          "name": "stdout",
          "output_type": "stream",
          "text": [
            "Epoch 6: Train Loss: 85.6584\n"
          ]
        },
        {
          "name": "stderr",
          "output_type": "stream",
          "text": [
            "Epoch 7: 100%|██████████| 937/937 [00:15<00:00, 59.97batch/s, loss=83.9]\n"
          ]
        },
        {
          "name": "stdout",
          "output_type": "stream",
          "text": [
            "Epoch 7: Train Loss: 84.6400\n"
          ]
        },
        {
          "name": "stderr",
          "output_type": "stream",
          "text": [
            "Epoch 8: 100%|██████████| 937/937 [00:15<00:00, 59.60batch/s, loss=82.9]\n"
          ]
        },
        {
          "name": "stdout",
          "output_type": "stream",
          "text": [
            "Epoch 8: Train Loss: 83.8260\n"
          ]
        },
        {
          "name": "stderr",
          "output_type": "stream",
          "text": [
            "Epoch 9: 100%|██████████| 937/937 [00:16<00:00, 56.49batch/s, loss=76.3]\n"
          ]
        },
        {
          "name": "stdout",
          "output_type": "stream",
          "text": [
            "Epoch 9: Train Loss: 83.1911\n"
          ]
        },
        {
          "name": "stderr",
          "output_type": "stream",
          "text": [
            "Epoch 10: 100%|██████████| 937/937 [00:15<00:00, 59.73batch/s, loss=77.8]\n"
          ]
        },
        {
          "name": "stdout",
          "output_type": "stream",
          "text": [
            "Epoch 10: Train Loss: 82.5216\n"
          ]
        },
        {
          "name": "stderr",
          "output_type": "stream",
          "text": [
            "Epoch 11: 100%|██████████| 937/937 [00:15<00:00, 59.81batch/s, loss=80.2]\n"
          ]
        },
        {
          "name": "stdout",
          "output_type": "stream",
          "text": [
            "Epoch 11: Train Loss: 82.1082\n"
          ]
        },
        {
          "name": "stderr",
          "output_type": "stream",
          "text": [
            "Epoch 12: 100%|██████████| 937/937 [00:15<00:00, 59.85batch/s, loss=85.4]"
          ]
        },
        {
          "name": "stdout",
          "output_type": "stream",
          "text": [
            "Epoch 12: Train Loss: 81.6107\n"
          ]
        },
        {
          "name": "stderr",
          "output_type": "stream",
          "text": [
            "\n"
          ]
        }
      ],
      "source": [
        "ae_model.train()\n",
        "\n",
        "for epoch in range(0,n_epoch):\n",
        "  train_loss=0.0\n",
        "\n",
        "  with tqdm(mnist_train_loader, unit=\"batch\") as tepoch:\n",
        "    for data, labels in tepoch:\n",
        "      tepoch.set_description(f\"Epoch {epoch}\")\n",
        "\n",
        "      # Put data on correct device, GPU or CPU\n",
        "      data = data.to(device)\n",
        "\n",
        "      # Pass the input data through the model\n",
        "      predict = ae_model(data)\n",
        "      reconstructions = predict['reconstructions']\n",
        "\n",
        "      # Compute the AE loss\n",
        "      loss = reconstruction_loss(reconstructions, data)\n",
        "\n",
        "      # Backpropagate\n",
        "      optimizer.zero_grad()\n",
        "      loss.backward()\n",
        "      optimizer.step()\n",
        "\n",
        "      # Aggregate the training loss for display at the end of the epoch\n",
        "      train_loss += loss.item()\n",
        "\n",
        "      # tqdm bar displays the loss\n",
        "      tepoch.set_postfix(loss=loss.item())\n",
        "\n",
        "  print('Epoch {}: Train Loss: {:.4f}'.format(epoch, train_loss/len(mnist_train_loader)))"
      ]
    },
    {
      "cell_type": "markdown",
      "metadata": {
        "id": "iHscBN4KJ2Sq"
      },
      "source": [
        "### Testing the vanilla autoencoder"
      ]
    },
    {
      "cell_type": "markdown",
      "metadata": {
        "id": "w3EbmswSzJdK"
      },
      "source": [
        "We define functions for qualitative testing of the autoencoder model. We will reuse them throughout the lab."
      ]
    },
    {
      "cell_type": "code",
      "execution_count": 17,
      "metadata": {
        "id": "T8jXjdRyzMy2"
      },
      "outputs": [],
      "source": [
        "def display_images(imgs):\n",
        "  '''\n",
        "  Display a batch of images (typically synthetic/generated images)\n",
        "  '''\n",
        "  r = 1\n",
        "  c = imgs.shape[0]\n",
        "  fig, axs = plt.subplots(r, c)\n",
        "  for j in range(c):\n",
        "    # black and white images\n",
        "    axs[j].imshow(imgs[j, 0,:,:].detach().cpu().numpy(), cmap='gray')\n",
        "    axs[j].axis('off')\n",
        "  plt.show()\n",
        "\n",
        "def display_ae_images(ae_model, test_imgs):\n",
        "  '''\n",
        "  Display a batch of input images along with their reconstructions by a given model\n",
        "    First row: input images\n",
        "    Second row: reconstructed images\n",
        "  '''\n",
        "  n_images = 5\n",
        "  idx = np.random.randint(0, test_imgs.shape[0], n_images)\n",
        "  test_imgs = test_imgs[idx,:,:,:]\n",
        "\n",
        "  # get output images\n",
        "  output_imgs = ae_model(test_imgs.to(ae_model.encoder.conv1.weight.device))['reconstructions']\n",
        "  output_imgs = output_imgs.detach().cpu().numpy()\n",
        "\n",
        "  r = 2\n",
        "  c = n_images\n",
        "  fig, axs = plt.subplots(r, c)\n",
        "  for j in range(c):\n",
        "    axs[0,j].imshow(test_imgs[j, 0,:,:], cmap='gray')\n",
        "    axs[0,j].axis('off')\n",
        "    axs[1,j].imshow(output_imgs[j, 0,:,:], cmap='gray')\n",
        "    axs[1,j].axis('off')\n",
        "  plt.show()"
      ]
    },
    {
      "cell_type": "markdown",
      "metadata": {
        "id": "TQiEplCiKnlT"
      },
      "source": [
        "Let's see how well the autoencoder reconstructs images from the training set:"
      ]
    },
    {
      "cell_type": "code",
      "execution_count": 73,
      "metadata": {
        "colab": {
          "base_uri": "https://localhost:8080/",
          "height": 324
        },
        "id": "9pbXch29d68D",
        "outputId": "a62691ca-60b4-410c-a1b6-96a8c657b20b"
      },
      "outputs": [
        {
          "data": {
            "image/png": "[encoded data removed]",
            "text/plain": [
              "<Figure size 640x480 with 10 Axes>"
            ]
          },
          "metadata": {},
          "output_type": "display_data"
        }
      ],
      "source": [
        "# reconstructing training images\n",
        "train_imgs = next(iter(mnist_train_loader))[0]\n",
        "display_ae_images(ae_model, train_imgs)"
      ]
    },
    {
      "cell_type": "markdown",
      "metadata": {
        "id": "h3XxWKjGKtoA"
      },
      "source": [
        "What about images from the test set?"
      ]
    },
    {
      "cell_type": "code",
      "execution_count": 74,
      "metadata": {
        "colab": {
          "base_uri": "https://localhost:8080/",
          "height": 324
        },
        "id": "ExMLThLofLn2",
        "outputId": "5690f55d-6292-4ea9-fc82-d5ae52eab2ef"
      },
      "outputs": [
        {
          "data": {
            "image/png": "[encoded data removed]",
            "text/plain": [
              "<Figure size 640x480 with 10 Axes>"
            ]
          },
          "metadata": {},
          "output_type": "display_data"
        }
      ],
      "source": [
        "# reconstructing test images\n",
        "test_imgs = next(iter(mnist_test_loader))[0]\n",
        "display_ae_images(ae_model, test_imgs)"
      ]
    },
    {
      "cell_type": "markdown",
      "metadata": {
        "id": "icWAOpmWKwid"
      },
      "source": [
        "There is not too much overfitting at work here apparently. We can quantify this by computing the reconstruction loss over the test dataset (below) and comparing it to the reconstruction loss over the training dataset at the end of training (check the training cell above)."
      ]
    },
    {
      "cell_type": "code",
      "execution_count": 75,
      "metadata": {
        "colab": {
          "base_uri": "https://localhost:8080/"
        },
        "id": "HbyzjCqUjHQU",
        "outputId": "aa10470d-0377-43ea-d420-af3d8673ab61"
      },
      "outputs": [
        {
          "name": "stderr",
          "output_type": "stream",
          "text": [
            "100%|██████████| 156/156 [00:02<00:00, 75.53batch/s, loss=88.7]"
          ]
        },
        {
          "name": "stdout",
          "output_type": "stream",
          "text": [
            "Test Loss: 81.5653\n"
          ]
        },
        {
          "name": "stderr",
          "output_type": "stream",
          "text": [
            "\n"
          ]
        }
      ],
      "source": [
        "ae_model.eval()\n",
        "test_loss=0.0\n",
        "\n",
        "# We will store all the latent codes corresponding to the test images for reuse\n",
        "# later on.\n",
        "zs_test = np.zeros((len(mnist_test_loader.dataset),ae_model.latent_dim))\n",
        "\n",
        "n = 0\n",
        "with tqdm(mnist_test_loader, unit=\"batch\") as tepoch:\n",
        "  for data, labels in tepoch:\n",
        "    # Put the data on the correct device:\n",
        "    data = data.to(device)\n",
        "\n",
        "    # Pass the data through the model\n",
        "    predict= ae_model(data)\n",
        "    reconstructions = predict['reconstructions']\n",
        "    z = predict['codes']\n",
        "\n",
        "    # Compute the AE loss\n",
        "    loss = reconstruction_loss(reconstructions, data)\n",
        "\n",
        "    # Store quantities of interest\n",
        "    minibatch_size = z.shape[0]\n",
        "    zs_test[n:(n+minibatch_size),:] = z.detach().cpu().numpy()\n",
        "\n",
        "    # Compute the loss\n",
        "    test_loss += loss.item()\n",
        "\n",
        "    # tqdm bar displays the loss\n",
        "    tepoch.set_postfix(loss=loss.item())\n",
        "\n",
        "    # increment n to fill next parts of the arrays\n",
        "    n += minibatch_size\n",
        "\n",
        "print('Test Loss: {:.4f}'.format(test_loss/len(mnist_test_loader)))"
      ]
    },
    {
      "cell_type": "markdown",
      "metadata": {
        "id": "assPaJqB5sa-"
      },
      "source": [
        "The test and training average reconstruction losses are indeed similar."
      ]
    },
    {
      "cell_type": "markdown",
      "metadata": {
        "id": "SoLTYl8ELZsj"
      },
      "source": [
        "Are you happy with the quality of the __reconstructions__? Next, we will see if this autoencoder model is good at __generating__ images."
      ]
    },
    {
      "cell_type": "markdown",
      "metadata": {
        "id": "zO9ATQEiyr3b"
      },
      "source": [
        "# 2. Image generation with the vanilla autoencoder\n",
        "\n",
        "Unfortunately, the vanilla autoencoder is not in itself a generative model because it does not define a joint probability distribution of the data and latent codes. We need to come up with roundabout ways to synthetize data based on this model."
      ]
    },
    {
      "cell_type": "markdown",
      "metadata": {
        "id": "ECzGyqbyMaCt"
      },
      "source": [
        "In this section, we consider two naïve approaches to creating generative models from the AE. The general idea is the following:\n",
        "\n",
        "- train an autoencoder\n",
        "- estimate different statistics (mean, variance) of the data in the latent space\n",
        "- using these statistics, define a model based on a Gaussian distribution in the latent space\n",
        "- generate latent codes with this distribution, then decode them back to image space to obtain synthetic images\n",
        "\n",
        "We will consider these two situations :\n",
        "\n",
        "- a multivariate Gaussian distribution with __diagonal covariance matrix__ (each latent variable is an independent random variable). This requires the mean and variance in each latent variable;\n",
        "- a multivariate Gaussian distribution with __non-diagonal covariance matrix__. This requires the mean and covariance matrix of the latent codes.\n",
        "\n",
        "Obviously, since this is done _a posteriori_ after training the autoencoder, there is nothing which guarantees that the latent codes do indeed follow a Gaussian distribution. Our goal will be to verify that Variational Autoencoders indeed produce better results than such naïve approaches."
      ]
    },
    {
      "cell_type": "markdown",
      "metadata": {
        "id": "x2M1-BRmf56d"
      },
      "source": [
        "### 2.0. Defining and generating random Gaussian latent codes\n",
        "\n",
        "Let $z$ be a latent code and $D$ the dimension of the latent space (called ``latent_dim`` in the code). We suppose that the $z$'s follow a multivariate Gaussian distribution, written as:\n",
        "\n",
        "\\begin{equation}\n",
        "z \\sim \\mathcal{N}\\left(\n",
        "\\mu,\n",
        "\\bf{C}\n",
        "\\right),\n",
        "\\end{equation}\n",
        "where $\\mu$ and $\\bf{C}$ are the mean vector and covariance matrix of the Gaussian distribution. To define such a generative model, we must therefore determine $\\mu$ and $\\bf{C}$. Once this is done, we can generate a random Gaussian latent code in the following manner:\n",
        "\n",
        "\\begin{equation}\n",
        "z = \\mu + {\\bf{L}} \\varepsilon,\n",
        "\\end{equation}\n",
        "where $\\varepsilon$ is a random vector drawn from a multivariate normal distribution ($\\mu=0$ and ${\\bf{C}} = \\text{Id}$), and $\\bf{L}$ is output by a Cholesky decomposition of the positive semi-definite covariance matrix. In other words:\n",
        "\n",
        "\\begin{equation}\n",
        "{\\bf{C}} = {\\bf{L}}{\\bf{L}^T}.\n",
        "\\end{equation}\n",
        "\n",
        "This gives a simple method of producing a multivariate Gaussian random variable."
      ]
    },
    {
      "cell_type": "markdown",
      "metadata": {
        "id": "NWpucm972i7j"
      },
      "source": [
        "### 2.1. A Gaussian model with diagonal covariance\n",
        "\n",
        "The first naïve model is  defined in this first case as:\n",
        "\n",
        "- $\\bf{\\mu}=\\left[\\mu_0, \\mu_1, \\cdots, \\mu_{d-1}\\right]^T$\n",
        "- $\n",
        "  \\bf{C} = \\begin{pmatrix}\n",
        "\\sigma_0^2 & 0 & \\cdots & 0 \\\\\n",
        "0 & \\sigma_1^2 & \\cdots & 0 \\\\\n",
        "\\vdots & \\ddots & \\ddots & \\vdots \\\\\n",
        "0 & 0 & \\cdots & \\sigma_{d-1}^2\n",
        "\\end{pmatrix}$\n",
        "\n",
        "In this situation, therefore, the matrix $\\bf{L}$ can be calculated quite simply, as:\n",
        "- $\n",
        "  \\bf{L} = \\begin{pmatrix}\n",
        "\\sigma_0 & 0 & \\cdots & 0 \\\\\n",
        "0 & \\sigma_1 & \\cdots & 0 \\\\\n",
        "\\vdots & \\ddots & \\ddots & \\vdots \\\\\n",
        "0 & 0 & \\cdots & \\sigma_{d-1}\n",
        "\\end{pmatrix}$"
      ]
    },
    {
      "cell_type": "markdown",
      "metadata": {
        "id": "gZCIY7RsN4NY"
      },
      "source": [
        "We are going to compute the mean and the component-wise standard deviations from a batch of data. For simplicity you are going to use the latent codes `zs_test` corresponding to the test data to estimate these quantities.<br>\n",
        "\n",
        "It is actually bad practice, and it would be better to estimate them from the training dataset. We do not do so here for convenience because we have already computed `zs_test` above (we have verified above that overfitting was not a problem, so the difference between the two estimates should be minor)."
      ]
    },
    {
      "cell_type": "code",
      "execution_count": 76,
      "metadata": {
        "colab": {
          "base_uri": "https://localhost:8080/"
        },
        "id": "sUXHCtvW2iQ0",
        "outputId": "39c740fc-8089-49c8-b142-0440d6415051"
      },
      "outputs": [
        {
          "name": "stdout",
          "output_type": "stream",
          "text": [
            "Average of latent codes: [-9.10328128 -5.88091157 -0.40112728 -3.17209754  2.94228182  3.86554798\n",
            "  3.69796379  4.77608981 -0.06498346 -2.04495584]\n",
            "Standard deviation of latent codes: [5.92774661 5.86262589 5.27354687 4.28109199 4.900383   5.18048709\n",
            " 4.75954941 4.40450279 5.01326136 5.58310933]\n"
          ]
        }
      ],
      "source": [
        "# zs_test is of shape (N,D) where N is the test dataset size and D the latent dimension\n",
        "# Compute the vector of mean values and the vector of component-wise std's.\n",
        "z_average = np.mean(zs_test, axis=0)\n",
        "z_sigma = np.std(zs_test, axis=0)\n",
        "\n",
        "print(\"Average of latent codes:\",z_average)\n",
        "print(\"Standard deviation of latent codes:\",z_sigma)"
      ]
    },
    {
      "cell_type": "markdown",
      "metadata": {
        "id": "Lrpc62ML9K4l"
      },
      "source": [
        "Now, in the next cell generate data with this simple generative model using the approach described above. Display these images with the `display_images` function.\n",
        "\n",
        "__Hint__. You do not actually have to define the matrix $\\bf{L}$ in this case, an element-wise multiplication of two (properly chosen) vectors will suffice. To generate multivariate normal random variables you can use the following Pytorch function:\n",
        "\n",
        "- `torch.randn`\n",
        "\n",
        "To convert a numpy array to pytorch tensor, use `torch.from_numpy(...).float()`\n"
      ]
    },
    {
      "cell_type": "code",
      "execution_count": 77,
      "metadata": {
        "id": "cRXyUkVeppif"
      },
      "outputs": [],
      "source": [
        "def generate_images_diagonal_gaussian(ae_model, z_average, z_sigma, n_images = 5):\n",
        "    # Sample noise from a standard Gaussian distribution\n",
        "    z_average=torch.from_numpy(z_average).float()\n",
        "    z_sigma= torch.from_numpy(z_sigma).float()\n",
        "    epsilon = torch.randn(n_images, ae_model.latent_dim)\n",
        "\n",
        "    # Using epsilon, generate samples from N(mu,C)\n",
        "    z_generated= z_average + epsilon * z_sigma\n",
        "    # Decode back to image space\n",
        "    imgs_generated = ae_model.decoder(z_generated.to(device))\n",
        "\n",
        "    return imgs_generated"
      ]
    },
    {
      "cell_type": "code",
      "execution_count": 78,
      "metadata": {
        "colab": {
          "base_uri": "https://localhost:8080/",
          "height": 122
        },
        "id": "1_Tekii-9QEo",
        "outputId": "8e75c1cb-7860-4b68-ae12-99bcfad28d9a"
      },
      "outputs": [
        {
          "data": {
            "image/png": "[encoded data removed]",
            "text/plain": [
              "<Figure size 640x480 with 5 Axes>"
            ]
          },
          "metadata": {},
          "output_type": "display_data"
        }
      ],
      "source": [
        "imgs_generated = generate_images_diagonal_gaussian(ae_model, z_average, z_sigma, n_images=5)\n",
        "display_images(imgs_generated)"
      ]
    },
    {
      "cell_type": "markdown",
      "metadata": {
        "id": "xiNaEgLIloeA"
      },
      "source": [
        "What do you think of these samples? Next let's try a slightly more sophisticated model."
      ]
    },
    {
      "cell_type": "markdown",
      "metadata": {
        "id": "WjVPfkRKYMSh"
      },
      "source": [
        "### 2.2. Non-diagonal Gaussian model\n",
        "\n",
        "The second model uses a non-diagonal covariance matrix $\\bf{C}$ in the multivariate Gaussian distribution. In the next cell, calculate the mean and covariance matrix from `zs_test`.\n",
        "\n",
        "__Hint__. You can use the `np.cov` function. Make sure to put the data in the right format for this. The documentation might be incorrect, print the shape of z_covariance to verify that you have a matrix of the correct shape (the covariance matrix and not the Gram matrix)."
      ]
    },
    {
      "cell_type": "code",
      "execution_count": 79,
      "metadata": {
        "colab": {
          "base_uri": "https://localhost:8080/"
        },
        "id": "ArXgre39CD2H",
        "outputId": "14bf8ca3-9502-4128-f53b-70c723bab77f"
      },
      "outputs": [
        {
          "name": "stdout",
          "output_type": "stream",
          "text": [
            "Average of latent codes: [-9.10328128 -5.88091157 -0.40112728 -3.17209754  2.94228182  3.86554798\n",
            "  3.69796379  4.77608981 -0.06498346 -2.04495584]\n",
            "Covariance matrix of latent codes: [[ 35.14169399  -1.00516482 -11.25676995   3.96310935  -4.92272569\n",
            "    4.98615259  15.79713113   4.68324727   3.69906643   2.13351621]\n",
            " [ -1.00516482  34.37381972   1.89930903   1.0349898   11.73479695\n",
            "    9.59424001  -2.86017869  12.65787964   4.28875613  -3.46848231]\n",
            " [-11.25676995   1.89930903  27.81307795  -5.86284205  13.77709106\n",
            "  -15.5078104  -13.79701368   3.72889346   9.53953554  -1.72870804]\n",
            " [  3.96310935   1.0349898   -5.86284205  18.32958156   4.03454361\n",
            "    4.40028581   3.7391243   -1.67644931  -1.14635724   1.95393965]\n",
            " [ -4.92272569  11.73479695  13.77709106   4.03454361  24.01615515\n",
            "   -5.24609307 -10.64073984   8.63690339   7.31030507  -5.95103506]\n",
            " [  4.98615259   9.59424001 -15.5078104    4.40028581  -5.24609307\n",
            "   26.84013054  10.60103817   4.18616801  -6.15656043   1.26610947]\n",
            " [ 15.79713113  -2.86017869 -13.79701368   3.7391243  -10.64073984\n",
            "   10.60103817  22.65557615  -1.17319525  -6.53823656   9.1513097 ]\n",
            " [  4.68324727  12.65787964   3.72889346  -1.67644931   8.63690339\n",
            "    4.18616801  -1.17319525  19.401585     5.11237819  -6.75251706]\n",
            " [  3.69906643   4.28875613   9.53953554  -1.14635724   7.31030507\n",
            "   -6.15656043  -6.53823656   5.11237819  25.13530298  -0.99230192]\n",
            " [  2.13351621  -3.46848231  -1.72870804   1.95393965  -5.95103506\n",
            "    1.26610947   9.1513097   -6.75251706  -0.99230192  31.17422723]]\n"
          ]
        }
      ],
      "source": [
        "z_average = np.mean(zs_test, axis=0)\n",
        "z_covariance = np.cov(zs_test, rowvar=False)\n",
        "\n",
        "print(\"Average of latent codes:\", z_average)\n",
        "print(\"Covariance matrix of latent codes:\", z_covariance)"
      ]
    },
    {
      "cell_type": "markdown",
      "metadata": {
        "id": "JhXU8cnTZ0E8"
      },
      "source": [
        "Now, generate some samples with this distribution. In this case, you actually have to calculate the Cholesky decomposition and find $\\bf{L}$. For this, you can use `np.linalg.cholesky`. Then compute the latent codes according to $z = \\mu + {\\bf{L}} \\varepsilon$.\n",
        "\n",
        "__Hint__. You can use `torch.matmul`. Pay attention to the dimension of `epsilon` to implement it correctly."
      ]
    },
    {
      "cell_type": "code",
      "execution_count": 80,
      "metadata": {
        "id": "rSbYZLZGrcdR"
      },
      "outputs": [],
      "source": [
        "# calculate Cholesky decomposition of covariance matrix : C = L L^T\n",
        "L = np.linalg.cholesky(z_covariance)"
      ]
    },
    {
      "cell_type": "code",
      "execution_count": 81,
      "metadata": {
        "id": "zXGlJTZ7Z4ed"
      },
      "outputs": [],
      "source": [
        "def generate_images_non_diagonal_gaussian(ae_model, z_average, L, n_images = 5):\n",
        "  z_average=torch.from_numpy(z_average).float()\n",
        "  L=torch.from_numpy(L).float()\n",
        "  # Generate noise according to a standard Gaussian distribution\n",
        "  epsilon = torch.randn(n_images, ae_model.latent_dim).numpy()\n",
        "\n",
        "  # Sample latent codes using epsilon\n",
        "  z_generated = z_average + np.dot(epsilon, L.T)\n",
        "\n",
        "  # Decode back to image space\n",
        "  imgs_generated = ae_model.decoder(z_generated.to(device))\n",
        "\n",
        "  return imgs_generated"
      ]
    },
    {
      "cell_type": "markdown",
      "metadata": {
        "id": "xs0o_VUvR3jl"
      },
      "source": [
        "Generate images using this model now:"
      ]
    },
    {
      "cell_type": "code",
      "execution_count": 82,
      "metadata": {
        "colab": {
          "base_uri": "https://localhost:8080/",
          "height": 122
        },
        "id": "kGCJVjbXsKLE",
        "outputId": "b66d78be-a283-4218-b244-779ae0a77b8d"
      },
      "outputs": [
        {
          "data": {
            "image/png": "[encoded data removed]",
            "text/plain": [
              "<Figure size 640x480 with 5 Axes>"
            ]
          },
          "metadata": {},
          "output_type": "display_data"
        }
      ],
      "source": [
        "imgs_generated = generate_images_non_diagonal_gaussian(ae_model, z_average, L, n_images = 5)\n",
        "display_images(imgs_generated)"
      ]
    },
    {
      "cell_type": "markdown",
      "metadata": {
        "id": "qLtsdri6zKEm"
      },
      "source": [
        "You should see some improvement, but we can do better than this. Thus, we turn to the variational autoencoder."
      ]
    },
    {
      "cell_type": "markdown",
      "metadata": {
        "id": "8UqeNhuSdnDt"
      },
      "source": [
        "# 3. Variational autoencoder\n",
        "\n",
        "Now, we are going to create a variational autoencoder to carry out __image generation__. Let's first recall the idea of a variational autoencoder.\n",
        "\n",
        "### Main idea\n",
        "\n",
        "The main idea is to create an autoencoder whose latent codes follow a certain distribution (a Gaussian distribution in practice). This is done with two tools :\n",
        "\n",
        "- A specific architecture, where the encoder produces the mean and variance of the latent codes\n",
        "- A specially designed loss function\n",
        "\n",
        "Once the VAE is trained, it is possible to sample in the latent space by producing random normal variables and simply decoding.\n",
        "\n",
        "### Architecture\n",
        "\n",
        "The architecture of the VAE model is the same as before (using `Encoder` with `multiplier=2` and `Decoder`). However the wrapper `VAEModel` will be a bit more complex as we need to implement the reparametrization trick. We will also implement the code to generate samples (for test time).\n",
        "\n",
        "### Variational Autoencoder loss\n",
        "\n",
        "The VAE loss consists in a reconstruction loss and a KL divergence term.\n",
        "\n",
        "- The reconstruction loss is the same `reconstruction_loss` as before. In other words, the reconstructions are compared to the input images using binary cross-entropy. The reconstructions are generated by sampling a latent code from $q(z|x)$ and decoding it back to image space.\n",
        "\n",
        "- You will implement the KL divergence term manually below."
      ]
    },
    {
      "cell_type": "code",
      "execution_count": 3,
      "metadata": {
        "id": "6siMHQLheM4T"
      },
      "outputs": [],
      "source": [
        "class VAEModel(nn.Module):\n",
        "    def __init__(self, latent_dim):\n",
        "        super(VAEModel, self).__init__()\n",
        "\n",
        "        self.latent_dim = latent_dim\n",
        "        self.encoder = Encoder(latent_dim=latent_dim, multiplier=2)\n",
        "        self.decoder = Decoder(latent_dim=latent_dim)\n",
        "\n",
        "    def reparameterize(self, mean, logvar, mode='sample'):\n",
        "        \"\"\"\n",
        "        Samples from a normal distribution using the reparameterization trick.\n",
        "\n",
        "        Parameters\n",
        "        ----------\n",
        "        mean : torch.Tensor\n",
        "            Mean of the normal distribution. Shape (batch_size, latent_dim)\n",
        "\n",
        "        logvar : torch.Tensor\n",
        "            Diagonal log variance of the normal distribution. Shape (batch_size,\n",
        "            latent_dim)\n",
        "\n",
        "        mode : 'sample' or 'mean'\n",
        "            Returns either a sample from qzx, or just the mean of qzx. The former\n",
        "            is useful at training time. The latter is useful at inference time as\n",
        "            the mean is usually used for reconstruction, rather than a sample.\n",
        "        \"\"\"\n",
        "        if mode=='sample':\n",
        "            # Implements the reparametrization trick (slide 43):\n",
        "            std = torch.exp(0.5 * logvar)\n",
        "            eps = torch.randn_like(std)\n",
        "            return mean + eps * std\n",
        "        elif mode=='mean':\n",
        "            return mean\n",
        "        else:\n",
        "            return ValueError(\"Unknown mode: {mode}\".format(mode))\n",
        "\n",
        "    def forward(self, x, mode='sample'):\n",
        "        \"\"\"\n",
        "        Forward pass of model, used for training or reconstruction.\n",
        "\n",
        "        Parameters\n",
        "        ----------\n",
        "        x : torch.Tensor\n",
        "            Batch of data. Shape (batch_size, n_chan, height, width)\n",
        "\n",
        "        mode : 'sample' or 'mean'\n",
        "            Reconstructs using either a sample from qzx or the mean of qzx\n",
        "        \"\"\"\n",
        "\n",
        "        # stats_qzx is the output of the encoder\n",
        "        stats_qzx = self.encoder(x)\n",
        "\n",
        "        # Use the reparametrization trick to sample from q(z|x)\n",
        "        samples_qzx = self.reparameterize(*stats_qzx.unbind(-1), mode=mode)\n",
        "\n",
        "        # Decode the samples to image space\n",
        "        reconstructions = self.decoder(samples_qzx)\n",
        "\n",
        "        # Return everything:\n",
        "        return {\n",
        "            'reconstructions': reconstructions,\n",
        "            'stats_qzx': stats_qzx,\n",
        "            'samples_qzx': samples_qzx}\n",
        "\n",
        "    def sample_qzx(self, x):\n",
        "        \"\"\"\n",
        "        Returns a sample z from the latent distribution q(z|x).\n",
        "\n",
        "        Parameters\n",
        "        ----------\n",
        "        x : torch.Tensor\n",
        "            Batch of data. Shape (batch_size, n_chan, height, width)\n",
        "        \"\"\"\n",
        "        stats_qzx = self.encoder(x)\n",
        "        samples_qzx = self.reparameterize(*stats_qzx.unbind(-1))\n",
        "        return samples_qzx\n",
        "\n",
        "    def sample_pz(self, N):\n",
        "        samples_pz = torch.randn(N, self.latent_dim, device=self.encoder.conv1.weight.device)\n",
        "        return samples_pz\n",
        "\n",
        "    def generate_samples(self, samples_pz=None, N=None):\n",
        "        if samples_pz is None:\n",
        "            if N is None:\n",
        "                return ValueError(\"samples_pz and N cannot be set to None at the same time. Specify one of the two.\")\n",
        "\n",
        "            # If samples z are not provided, we sample N samples from the prior\n",
        "            # p(z)=N(0,Id), using sample_pz\n",
        "            samples_pz = self.sample_pz(N) # FILL IN CODE\n",
        "\n",
        "        # Decode the z's to obtain samples in image space (here, probability\n",
        "        # maps which can later be sampled from or thresholded)\n",
        "        generations = self.decoder(samples_pz) # FILL IN CODE\n",
        "        return {'generations': generations}"
      ]
    },
    {
      "cell_type": "markdown",
      "metadata": {
        "id": "MUsrzszm-Hnf"
      },
      "source": [
        "The KL divergence term is computed as per the regularization term in slide 45 i.e., for each data sample in the mini-batch:\n",
        "$$\\frac{1}{2}\\sum_{j=1}^D (\\mu_j^2 + \\sigma_j^2 - 1 - \\log{\\sigma_j^2})$$"
      ]
    },
    {
      "cell_type": "code",
      "execution_count": 4,
      "metadata": {
        "id": "-pc40PPM7adL"
      },
      "outputs": [],
      "source": [
        "def kl_normal_loss(mean, logvar):\n",
        "    \"\"\"\n",
        "    Calculates the KL divergence between a normal distribution\n",
        "    with diagonal covariance and a unit normal distribution.\n",
        "\n",
        "    Parameters\n",
        "    ----------\n",
        "    mean : torch.Tensor\n",
        "        Mean of the normal distribution. Shape (batch_size, latent_dim) where\n",
        "        D is dimension of distribution.\n",
        "\n",
        "    logvar : torch.Tensor\n",
        "        Diagonal log variance of the normal distribution. Shape (batch_size,\n",
        "        latent_dim)\n",
        "    \"\"\"\n",
        "    # To be consistent with the reconstruction loss, wetake the mean over the\n",
        "    # minibatch (i.e., compute for each sample in the minibatch according to\n",
        "    # the equation above, then take the mean).\n",
        "    kl_divergence = 0.5 * torch.sum(mean.pow(2) + logvar.exp() - 1 - logvar, dim=1)\n",
        "\n",
        "    latent_kl = torch.mean(kl_divergence)\n",
        "\n",
        "    return latent_kl"
      ]
    },
    {
      "cell_type": "markdown",
      "metadata": {
        "id": "WhJbXJ0y_8OI"
      },
      "source": [
        "The `BetaVAELoss` puts it all together as per slide 55."
      ]
    },
    {
      "cell_type": "code",
      "execution_count": 5,
      "metadata": {
        "id": "x_hr2EwiCRSv"
      },
      "outputs": [],
      "source": [
        "class BetaVAELoss(object):\n",
        "    \"\"\"\n",
        "    Compute the Beta-VAE loss\n",
        "\n",
        "    Parameters\n",
        "    ----------\n",
        "        beta: (scalar) the weight assigned to the regularization term\n",
        "    \"\"\"\n",
        "\n",
        "    def __init__(self, beta):\n",
        "        self.beta = beta\n",
        "\n",
        "    def __call__(self, reconstructions, data, stats_qzx):\n",
        "        mean, logvar = stats_qzx.unbind(-1)\n",
        "\n",
        "        # Reconstruction loss\n",
        "        rec_loss = F.binary_cross_entropy(reconstructions, data, reduction='sum')\n",
        "\n",
        "        # KL loss\n",
        "        kl_loss = kl_normal_loss(mean, logvar)\n",
        "\n",
        "        # Total loss of beta-VAE\n",
        "        loss = rec_loss + self.beta * kl_loss\n",
        "\n",
        "        return loss"
      ]
    },
    {
      "cell_type": "markdown",
      "metadata": {
        "id": "3RGTCPZXWaz6"
      },
      "source": [
        "### Training the Variational Autoencoder"
      ]
    },
    {
      "cell_type": "markdown",
      "metadata": {
        "id": "hk_9fDIphlsi"
      },
      "source": [
        "This follows the traditional pipeline that you are by now familiar with."
      ]
    },
    {
      "cell_type": "code",
      "execution_count": 6,
      "metadata": {
        "id": "bOdRTeDAMJCO"
      },
      "outputs": [],
      "source": [
        "latent_dim = 10\n",
        "\n",
        "learning_rate = 1e-3\n",
        "n_epoch = 5 # use the same number of epochs as before for fairness"
      ]
    },
    {
      "cell_type": "code",
      "execution_count": 7,
      "metadata": {
        "colab": {
          "base_uri": "https://localhost:8080/"
        },
        "id": "xGN3jpxqOOwg",
        "outputId": "48d14322-ede6-4ebf-9d3c-aaa0fc33ea51"
      },
      "outputs": [
        {
          "name": "stdout",
          "output_type": "stream",
          "text": [
            "cpu\n"
          ]
        }
      ],
      "source": [
        "device = torch.device(\"cuda:0\" if torch.cuda.is_available() else \"cpu\")\n",
        "print(device)"
      ]
    },
    {
      "cell_type": "code",
      "execution_count": 12,
      "metadata": {
        "id": "D5XnxIE1L1bI"
      },
      "outputs": [],
      "source": [
        "vae_model = VAEModel(latent_dim=10).to(device)\n"
      ]
    },
    {
      "cell_type": "code",
      "execution_count": 13,
      "metadata": {
        "id": "fBVo5s-dQCBb"
      },
      "outputs": [],
      "source": [
        "# To keep it simple, we can leave beta at 1.0 for the beta-VAE loss\n",
        "# Feel free to experiment with it to see different trade-offs between reconstruction\n",
        "# and generation performance.\n",
        "\n",
        "vae_loss = BetaVAELoss(beta=1.0)"
      ]
    },
    {
      "cell_type": "code",
      "execution_count": 14,
      "metadata": {
        "id": "GiqsBcP7KIT3"
      },
      "outputs": [],
      "source": [
        "# AdamW, with learning rate set to the parameter above and weight decay to 1e-4\n",
        "optimizer = torch.optim.Adam(vae_model.parameters(), lr=1e-4)"
      ]
    },
    {
      "cell_type": "code",
      "execution_count": 15,
      "metadata": {
        "colab": {
          "base_uri": "https://localhost:8080/"
        },
        "id": "z4KHRufgxNmR",
        "outputId": "8ea4d5aa-3b33-435d-df69-5d5ee43269f7"
      },
      "outputs": [
        {
          "name": "stderr",
          "output_type": "stream",
          "text": [
            "Epoch 0: 100%|██████████| 937/937 [00:55<00:00, 16.92batch/s, loss=1.26e+4]\n"
          ]
        },
        {
          "name": "stdout",
          "output_type": "stream",
          "text": [
            "Epoch 0: Train Loss: 16246.9441\n"
          ]
        },
        {
          "name": "stderr",
          "output_type": "stream",
          "text": [
            "Epoch 1: 100%|██████████| 937/937 [00:55<00:00, 16.89batch/s, loss=1.13e+4]\n"
          ]
        },
        {
          "name": "stdout",
          "output_type": "stream",
          "text": [
            "Epoch 1: Train Loss: 12251.7902\n"
          ]
        },
        {
          "name": "stderr",
          "output_type": "stream",
          "text": [
            "Epoch 2: 100%|██████████| 937/937 [00:54<00:00, 17.27batch/s, loss=8.82e+3]\n"
          ]
        },
        {
          "name": "stdout",
          "output_type": "stream",
          "text": [
            "Epoch 2: Train Loss: 9597.3645\n"
          ]
        },
        {
          "name": "stderr",
          "output_type": "stream",
          "text": [
            "Epoch 3: 100%|██████████| 937/937 [00:54<00:00, 17.33batch/s, loss=6.99e+3]\n"
          ]
        },
        {
          "name": "stdout",
          "output_type": "stream",
          "text": [
            "Epoch 3: Train Loss: 7998.8483\n"
          ]
        },
        {
          "name": "stderr",
          "output_type": "stream",
          "text": [
            "Epoch 4: 100%|██████████| 937/937 [00:54<00:00, 17.24batch/s, loss=6.44e+3]"
          ]
        },
        {
          "name": "stdout",
          "output_type": "stream",
          "text": [
            "Epoch 4: Train Loss: 7419.0427\n"
          ]
        },
        {
          "name": "stderr",
          "output_type": "stream",
          "text": [
            "\n"
          ]
        }
      ],
      "source": [
        "vae_model.train()\n",
        "\n",
        "for epoch in range(0,n_epoch):\n",
        "  train_loss=0.0\n",
        "\n",
        "  with tqdm(mnist_train_loader, unit=\"batch\") as tepoch:\n",
        "    for data, labels in tepoch:\n",
        "      tepoch.set_description(f\"Epoch {epoch}\")\n",
        "\n",
        "      # Put data on correct device, GPU or CPU\n",
        "      data = data.to(device)\n",
        "\n",
        "      # Pass the input data through the model\n",
        "      predict = vae_model(data)\n",
        "      reconstructions = predict['reconstructions']\n",
        "      stats_qzx = predict['stats_qzx']\n",
        "\n",
        "      # Compute the beta-VAE loss\n",
        "      loss = vae_loss(reconstructions, data, stats_qzx)\n",
        "      # Backpropagate\n",
        "      optimizer.zero_grad()\n",
        "      loss.backward()\n",
        "      optimizer.step()\n",
        "\n",
        "      # Aggregate the training loss for display at the end of the epoch\n",
        "      train_loss += loss.item()\n",
        "\n",
        "      # tqdm bar displays the loss\n",
        "      tepoch.set_postfix(loss=loss.item())\n",
        "\n",
        "  print('Epoch {}: Train Loss: {:.4f}'.format(epoch, train_loss/len(mnist_train_loader)))"
      ]
    },
    {
      "cell_type": "markdown",
      "metadata": {
        "id": "3DFW0vPRXrSB"
      },
      "source": [
        "### Testing the VAE model"
      ]
    },
    {
      "cell_type": "markdown",
      "metadata": {
        "id": "Who7o-hAXLhl"
      },
      "source": [
        "Let's check how well the VAE reconstructs training samples:"
      ]
    },
    {
      "cell_type": "code",
      "execution_count": 18,
      "metadata": {
        "colab": {
          "base_uri": "https://localhost:8080/",
          "height": 324
        },
        "id": "NiRg43Bgx_MH",
        "outputId": "ac01d1f2-d6bf-470a-d3d1-83b0cafd668d"
      },
      "outputs": [
        {
          "data": {
            "image/png": "[encoded data removed]",
            "text/plain": [
              "<Figure size 640x480 with 10 Axes>"
            ]
          },
          "metadata": {},
          "output_type": "display_data"
        }
      ],
      "source": [
        "# reconstructing training images\n",
        "train_imgs = next(iter(mnist_train_loader))[0]\n",
        "display_ae_images(vae_model, train_imgs)"
      ]
    },
    {
      "cell_type": "markdown",
      "metadata": {
        "id": "Bqa9wmZ3XSxD"
      },
      "source": [
        "Same for test samples:"
      ]
    },
    {
      "cell_type": "code",
      "execution_count": 19,
      "metadata": {
        "colab": {
          "base_uri": "https://localhost:8080/",
          "height": 324
        },
        "id": "IRJ9-V0tx_MJ",
        "outputId": "ae71d532-1863-44eb-d44e-84491e9da8fc"
      },
      "outputs": [
        {
          "data": {
            "image/png": "[encoded data removed]",
            "text/plain": [
              "<Figure size 640x480 with 10 Axes>"
            ]
          },
          "metadata": {},
          "output_type": "display_data"
        }
      ],
      "source": [
        "# reconstructing test images\n",
        "test_imgs = next(iter(mnist_test_loader))[0]\n",
        "display_ae_images(vae_model, test_imgs)"
      ]
    },
    {
      "cell_type": "markdown",
      "metadata": {
        "id": "OR-uGTX2XaEB"
      },
      "source": [
        "Let's compute the quantitative `reconstruction_loss` on the test data:"
      ]
    },
    {
      "cell_type": "code",
      "execution_count": 21,
      "metadata": {
        "colab": {
          "base_uri": "https://localhost:8080/"
        },
        "id": "P0EzdVDzx_MJ",
        "outputId": "3d3d3391-a834-4f43-ce30-c2788b780ae0"
      },
      "outputs": [
        {
          "name": "stderr",
          "output_type": "stream",
          "text": [
            "100%|██████████| 156/156 [00:04<00:00, 35.61batch/s, loss=7.45e+3]"
          ]
        },
        {
          "name": "stdout",
          "output_type": "stream",
          "text": [
            "Test Loss: 7143.6837\n"
          ]
        },
        {
          "name": "stderr",
          "output_type": "stream",
          "text": [
            "\n"
          ]
        }
      ],
      "source": [
        "vae_model.eval()\n",
        "test_loss=0.0\n",
        "\n",
        "\n",
        "n = 0\n",
        "with tqdm(mnist_test_loader, unit=\"batch\") as tepoch:\n",
        "  for data, labels in tepoch:\n",
        "    # Put the data on the correct device:\n",
        "    data = data.to(device)\n",
        "\n",
        "    # Pass the data through the model\n",
        "    predict= vae_model(data)\n",
        "    reconstructions = predict['reconstructions']\n",
        "    stats_qzx = predict['stats_qzx']\n",
        "\n",
        "    # Compute the AE loss\n",
        "    loss = vae_loss(reconstructions,data, stats_qzx)\n",
        "\n",
        "    # Compute the loss\n",
        "    test_loss += loss.item()\n",
        "\n",
        "    # tqdm bar displays the loss\n",
        "    tepoch.set_postfix(loss=loss.item())\n",
        "\n",
        "\n",
        "print('Test Loss: {:.4f}'.format(test_loss/len(mnist_test_loader)))"
      ]
    },
    {
      "cell_type": "markdown",
      "metadata": {
        "id": "wFOJ0yCzXuxO"
      },
      "source": [
        "### Image generation with the VAE model"
      ]
    },
    {
      "cell_type": "markdown",
      "metadata": {
        "id": "uTfRje_AkKDr"
      },
      "source": [
        "Now, generate some images with the VAE model. You can directly use the `generate_samples` routine from the `VAEModel` class above."
      ]
    },
    {
      "cell_type": "code",
      "execution_count": 22,
      "metadata": {
        "id": "NGt_LSDEE2vz"
      },
      "outputs": [],
      "source": [
        "def generate_images_vae(vae_model, n_images=5):\n",
        "    vae_model.eval()\n",
        "\n",
        "    samples_pz = vae_model.sample_pz(n_images)\n",
        "\n",
        "    generated_images = vae_model.generate_samples(samples_pz=samples_pz)['generations']\n",
        "\n",
        "    return generated_images"
      ]
    },
    {
      "cell_type": "code",
      "execution_count": 28,
      "metadata": {
        "colab": {
          "base_uri": "https://localhost:8080/",
          "height": 122
        },
        "id": "41tXdNsFkKk5",
        "outputId": "5ae3008a-a0a2-4be0-842a-db53f6587ce8"
      },
      "outputs": [
        {
          "data": {
            "image/png": "[encoded data removed]",
            "text/plain": [
              "<Figure size 640x480 with 5 Axes>"
            ]
          },
          "metadata": {},
          "output_type": "display_data"
        }
      ],
      "source": [
        "imgs_generated = generate_images_vae(vae_model)\n",
        "\n",
        "display_images(imgs_generated)"
      ]
    },
    {
      "cell_type": "markdown",
      "metadata": {
        "id": "lGnvKoynzaFN"
      },
      "source": [
        "Do you think the results are better ? What advantage does the Variational Autoencoder have over the simple autoencoder model, even though the second (non-diagonal Gaussian model) AE approach has a more complex probabilistic latent model (a full covariance matrix)?"
      ]
    },
    {
      "cell_type": "markdown",
      "metadata": {
        "id": "uXm-D9Ef9vYm"
      },
      "source": [
        "Next, we compare the models quantitavely."
      ]
    },
    {
      "cell_type": "markdown",
      "metadata": {
        "id": "04MddkzuE324"
      },
      "source": [
        "# 4. Evaluating and comparing the models for image generation"
      ]
    },
    {
      "cell_type": "code",
      "execution_count": null,
      "metadata": {
        "id": "D8WsuVqmaWmd"
      },
      "outputs": [],
      "source": [
        "device = torch.device(\"cuda:0\" if torch.cuda.is_available() else \"cpu\")\n",
        "print(device)"
      ]
    },
    {
      "cell_type": "markdown",
      "metadata": {
        "id": "B93T6PD2YhgF"
      },
      "source": [
        "Nowadays, the standard metric to evaluate the generative performance of a model is the FID (Fréchet Inception Distance). I leave it for you as optional homework to implement it if you wish to do so.\n",
        "\n",
        "Here, we will follow another path, a simplified version of the Inception Score (IS) that has been somewhat superseded by the FID:\n",
        "\n",
        "- we train a simple convolutional neural network classifier on MNIST, to a good accuracy\n",
        "- we generate images with each model\n",
        "- we find the average of the highest probability of the images according to the classifier, for each model. If this value is high, it means that on average the classifier considers that the images looks like a real image of an actual digit"
      ]
    },
    {
      "cell_type": "markdown",
      "metadata": {
        "id": "Fk1OdN6jZZf1"
      },
      "source": [
        "We will use the following simple convolutional architecture for the classifier:\n",
        "\n",
        "- conv2d, 3x3 kernel, 32 filters, stride=2, padding=1; + ReLU + BatchNorm2d\n",
        "- conv2d, 3x3 kernel, 64 filters, stride=2, padding=1; + ReLU + BatchNorm2d\n",
        "- conv2d, 3x3 kernel, 128 filters, stride=2, padding=1; + ReLU + BatchNorm2d\n",
        "- Global Average Pooling\n",
        "- Flatten\n",
        "- Dense layer\n",
        "\n",
        "Now, define the model. To make things easier, we use the `torch.nn.Sequential` API to implement the model (there is no need for a Class in this simple case).\n",
        "\n",
        "__Hint__. For the global average pooling, use the `torch.nn.AvgPool2d` layer with the suitable kernel size and stride."
      ]
    },
    {
      "cell_type": "code",
      "execution_count": 58,
      "metadata": {
        "id": "P87a-DkXFOCv"
      },
      "outputs": [],
      "source": [
        "nb_classes = 10\n",
        "kernel_size = (3, 3)\n",
        "\n",
        "mnist_classification_model = torch.nn.Sequential(\n",
        "    nn.Conv2d(in_channels=1, out_channels=32, kernel_size=kernel_size, stride=2, padding=1),\n",
        "    nn.ReLU(),\n",
        "    nn.BatchNorm2d(32),\n",
        "    nn.Conv2d(in_channels=32, out_channels=64, kernel_size=kernel_size, stride=2, padding=1),\n",
        "    nn.ReLU(),\n",
        "    nn.BatchNorm2d(64),\n",
        "    nn.Conv2d(in_channels=64, out_channels=128, kernel_size=kernel_size, stride=2, padding=1),\n",
        "    nn.ReLU(),\n",
        "    nn.BatchNorm2d(128),\n",
        "    nn.AdaptiveAvgPool2d((1, 1)),\n",
        "    nn.Flatten(),\n",
        "    nn.Linear(in_features=128, out_features=nb_classes)\n",
        "    )\n",
        "\n",
        "mnist_classification_model = mnist_classification_model.to(device)"
      ]
    },
    {
      "cell_type": "code",
      "execution_count": 53,
      "metadata": {
        "id": "rJ6ZYkKVaY64"
      },
      "outputs": [],
      "source": [
        "learning_rate = 1e-3\n",
        "n_epoch = 5"
      ]
    },
    {
      "cell_type": "code",
      "execution_count": 56,
      "metadata": {
        "id": "Zexnteq71bJ5"
      },
      "outputs": [],
      "source": [
        "# Cross entropy with reduction='sum'\n",
        "criterion = nn.CrossEntropyLoss(reduction='sum')"
      ]
    },
    {
      "cell_type": "code",
      "execution_count": 55,
      "metadata": {
        "id": "pWkFh6zHajBg"
      },
      "outputs": [],
      "source": [
        "# AdamW, weight decay set to 1e-4\n",
        "optimizer = optim.AdamW(mnist_classification_model.parameters(), lr=learning_rate, weight_decay=1e-4)"
      ]
    },
    {
      "cell_type": "code",
      "execution_count": 43,
      "metadata": {
        "id": "eBZrmVV42Gej"
      },
      "outputs": [],
      "source": [
        "def vector_to_class(x):\n",
        "  y = torch.argmax(F.softmax(x,dim=1),axis=1)\n",
        "  return y"
      ]
    },
    {
      "cell_type": "code",
      "execution_count": 44,
      "metadata": {
        "id": "aOww0ydr2fT0"
      },
      "outputs": [],
      "source": [
        "def cnn_accuracy(x_pred,x_label):\n",
        "  acc = (x_pred == x_label).sum()/(x_pred.shape[0])\n",
        "  return acc"
      ]
    },
    {
      "cell_type": "code",
      "execution_count": 59,
      "metadata": {
        "colab": {
          "base_uri": "https://localhost:8080/"
        },
        "id": "0FA8YoX2FcHP",
        "outputId": "11716416-b9e0-4786-cd59-59157af3c8e4"
      },
      "outputs": [
        {
          "name": "stderr",
          "output_type": "stream",
          "text": [
            "Epoch 0: 100%|██████████| 937/937 [00:47<00:00, 19.59batch/s, loss=146]\n"
          ]
        },
        {
          "name": "stdout",
          "output_type": "stream",
          "text": [
            "Epoch:0 Train Loss:2.2782 Accuracy:0.1554\n"
          ]
        },
        {
          "name": "stderr",
          "output_type": "stream",
          "text": [
            "Epoch 1: 100%|██████████| 937/937 [00:47<00:00, 19.61batch/s, loss=146]\n"
          ]
        },
        {
          "name": "stdout",
          "output_type": "stream",
          "text": [
            "Epoch:1 Train Loss:2.2782 Accuracy:0.1566\n"
          ]
        },
        {
          "name": "stderr",
          "output_type": "stream",
          "text": [
            "Epoch 2: 100%|██████████| 937/937 [00:47<00:00, 19.88batch/s, loss=147]\n"
          ]
        },
        {
          "name": "stdout",
          "output_type": "stream",
          "text": [
            "Epoch:2 Train Loss:2.2784 Accuracy:0.1554\n"
          ]
        },
        {
          "name": "stderr",
          "output_type": "stream",
          "text": [
            "Epoch 3: 100%|██████████| 937/937 [00:45<00:00, 20.43batch/s, loss=146]\n"
          ]
        },
        {
          "name": "stdout",
          "output_type": "stream",
          "text": [
            "Epoch:3 Train Loss:2.2782 Accuracy:0.1556\n"
          ]
        },
        {
          "name": "stderr",
          "output_type": "stream",
          "text": [
            "Epoch 4: 100%|██████████| 937/937 [00:46<00:00, 20.37batch/s, loss=146]"
          ]
        },
        {
          "name": "stdout",
          "output_type": "stream",
          "text": [
            "Epoch:4 Train Loss:2.2783 Accuracy:0.1560\n"
          ]
        },
        {
          "name": "stderr",
          "output_type": "stream",
          "text": [
            "\n"
          ]
        }
      ],
      "source": [
        "mnist_classification_model.train()\n",
        "\n",
        "for epoch in range(0,n_epoch):\n",
        "  train_loss=0.0\n",
        "  all_labels = []\n",
        "  all_predicted = []\n",
        "\n",
        "  with tqdm(mnist_train_loader, unit=\"batch\") as tepoch:\n",
        "    for imgs, labels in tepoch:\n",
        "      tepoch.set_description(f\"Epoch {epoch}\")\n",
        "\n",
        "      # Put data on correct device\n",
        "      imgs = imgs.to(device)\n",
        "      labels = labels.to(device)\n",
        "\n",
        "      # forward pass and loss computation\n",
        "      predict=mnist_classification_model(imgs)\n",
        "      loss=criterion(predict, labels)\n",
        "\n",
        "      # backpropagation\n",
        "      optimizer.zero_grad()\n",
        "      loss.backward()\n",
        "      optimizer.step()\n",
        "\n",
        "      # compute the train loss\n",
        "      train_loss += loss.item()\n",
        "\n",
        "      # store labels and class predictions\n",
        "      all_labels.extend(labels.tolist())\n",
        "      all_predicted.extend(vector_to_class(predict).tolist())\n",
        "\n",
        "      # tqdm bar displays the loss\n",
        "      tepoch.set_postfix(loss=loss.item())\n",
        "\n",
        "  print('Epoch:{} Train Loss:{:.4f} Accuracy:{:.4f}'.format(epoch,train_loss/len(mnist_train_loader.dataset),\n",
        "                                                            cnn_accuracy(np.array(all_predicted),np.array(all_labels))))"
      ]
    },
    {
      "cell_type": "code",
      "execution_count": 60,
      "metadata": {
        "colab": {
          "base_uri": "https://localhost:8080/"
        },
        "id": "5bRM-1_x4bu2",
        "outputId": "51c63709-0866-48d7-edea-d96607ca1869"
      },
      "outputs": [
        {
          "name": "stderr",
          "output_type": "stream",
          "text": [
            "100%|██████████| 156/156 [00:02<00:00, 62.09batch/s]\n"
          ]
        },
        {
          "name": "stdout",
          "output_type": "stream",
          "text": [
            "\n",
            "Test Accuracy: 0.15294471153846154\n"
          ]
        }
      ],
      "source": [
        "mnist_classification_model.eval()\n",
        "\n",
        "all_predicted = []\n",
        "all_labels = []\n",
        "\n",
        "with tqdm(mnist_test_loader, unit=\"batch\") as tepoch:\n",
        "  for imgs, labels in tepoch:\n",
        "    all_labels.extend(labels.tolist())\n",
        "\n",
        "    imgs = imgs.to(device)\n",
        "    predict=mnist_classification_model(imgs)\n",
        "    all_predicted.extend(vector_to_class(predict).tolist())\n",
        "\n",
        "test_accuracy = cnn_accuracy(np.array(all_predicted),np.array(all_labels))\n",
        "\n",
        "print(\"\\nTest Accuracy:\", test_accuracy)"
      ]
    },
    {
      "cell_type": "markdown",
      "metadata": {
        "id": "zFgN5LblFwTa"
      },
      "source": [
        "### Evaluate the average maximum prediction of the images generated by each generative model (higher is better)\n",
        "\n",
        "Now, we evaluate the models. For each ones, produce a certain number of images, and put those images through the classification network. Then find the maximum class probability of each image, and average it over all the images. We will use this as a metric to evaluate each model.\n",
        "\n",
        "__CAREFUL__: the output of the network does __not__ include the Softmax layer, so you will have to carry it out, with:\n",
        "- ```torch.nn.Softmax()(...)```\n",
        "\n",
        "Define this metric now:"
      ]
    },
    {
      "cell_type": "code",
      "execution_count": null,
      "metadata": {
        "id": "J7WwhBNm_Ezn"
      },
      "outputs": [],
      "source": []
    },
    {
      "cell_type": "code",
      "execution_count": 61,
      "metadata": {
        "id": "lCJ_0qqjOXHT"
      },
      "outputs": [],
      "source": [
        "def generative_model_score(imgs_in,classification_model):\n",
        "    classification_model.eval()\n",
        "    imgs_in = imgs_in.to(device)\n",
        "    with torch.no_grad():\n",
        "        logits = classification_model(imgs_in)\n",
        "        probs = torch.nn.functional.softmax(logits, dim=1)\n",
        "    max_probs = probs.max(dim=1)[0]\n",
        "    gen_score = max_probs.mean()\n",
        "    return gen_score"
      ]
    },
    {
      "cell_type": "markdown",
      "metadata": {
        "id": "yGq7YFg51UoP"
      },
      "source": [
        "Now, generate some images with each of the three models, and evaluate these models:"
      ]
    },
    {
      "cell_type": "code",
      "execution_count": null,
      "metadata": {
        "id": "4-L4u2jhILFx"
      },
      "outputs": [],
      "source": [
        "imgs_diagonal_gaussian = generate_images_diagonal_gaussian(ae_model,z_average,z_sigma,n_images = 2000)\n",
        "imgs_non_diagonal_gaussian = generate_images_non_diagonal_gaussian(ae_model,z_average,L,n_images = 2000)\n",
        "imgs_vae = generate_images_vae(vae_model,n_images=2000)\n",
        "\n",
        "# average of maximum of first model\n",
        "diagonal_gaussian_score = float(generative_model_score(imgs_diagonal_gaussian,mnist_classification_model))\n",
        "non_diagonal_gaussian_score = float(generative_model_score(imgs_non_diagonal_gaussian,mnist_classification_model))\n",
        "vae_gaussian_score = float(generative_model_score(imgs_vae,mnist_classification_model))\n",
        "\n",
        "print(\"Diagonal gaussian generative model score : \",diagonal_gaussian_score)\n",
        "print(\"Non diagonal gaussian generative model score : \",non_diagonal_gaussian_score)\n",
        "print(\"Variational autoencoder model score: \",vae_gaussian_score)"
      ]
    },
    {
      "cell_type": "markdown",
      "metadata": {
        "id": "sxvsG8FC1gNS"
      },
      "source": [
        "Questions:\n",
        "\n",
        "- Which model is better quantitatively ? (unfortunately there is some variability, even with 2000 samples; you might want to rerun the cell several times to get the trend)\n",
        "- Do the quantitative result support the qualitative results ?\n",
        "- Can you see any drawbacks of this method of evaluation ?\n",
        "- Can you propose any more sophisticated models than the multivariate Gaussian approach (apart from the variational autoencoder) ?"
      ]
    },
    {
      "cell_type": "code",
      "execution_count": null,
      "metadata": {
        "id": "ybVcSbuBGdLP"
      },
      "outputs": [],
      "source": []
    }
  ],
  "metadata": {
    "accelerator": "GPU",
    "colab": {
      "gpuType": "T4",
      "provenance": []
    },
    "kernelspec": {
      "display_name": "Python 3",
      "name": "python3"
    },
    "language_info": {
      "codemirror_mode": {
        "name": "ipython",
        "version": 3
      },
      "file_extension": ".py",
      "mimetype": "text/x-python",
      "name": "python",
      "nbconvert_exporter": "python",
      "pygments_lexer": "ipython3",
      "version": "3.9.12"
    }
  },
  "nbformat": 4,
  "nbformat_minor": 0
}
